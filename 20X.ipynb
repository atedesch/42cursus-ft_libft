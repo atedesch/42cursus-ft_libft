{
  "nbformat": 4,
  "nbformat_minor": 0,
  "metadata": {
    "colab": {
      "provenance": [],
      "authorship_tag": "ABX9TyO+qIzNsU7WQW8OV22nSULX",
      "include_colab_link": true
    },
    "kernelspec": {
      "name": "python3",
      "display_name": "Python 3"
    },
    "language_info": {
      "name": "python"
    }
  },
  "cells": [
    {
      "cell_type": "markdown",
      "metadata": {
        "id": "view-in-github",
        "colab_type": "text"
      },
      "source": [
        "<a href=\"https://colab.research.google.com/github/atedesch/42cursus-ft_libft/blob/master/20X.ipynb\" target=\"_parent\"><img src=\"https://colab.research.google.com/assets/colab-badge.svg\" alt=\"Open In Colab\"/></a>"
      ]
    },
    {
      "cell_type": "markdown",
      "source": [
        "# 20X"
      ],
      "metadata": {
        "id": "2t5KG73VC3aX"
      }
    },
    {
      "cell_type": "markdown",
      "source": [
        "# Importazione librerie"
      ],
      "metadata": {
        "id": "t45pmkvZVidZ"
      }
    },
    {
      "cell_type": "code",
      "source": [
        "from random import random\n",
        "from random import *\n",
        "import statistics\n",
        "\n",
        "import numpy as np\n",
        "\n",
        "import array\n",
        "\n",
        "import random\n",
        "\n",
        "import pandas as pd\n",
        "import matplotlib.pyplot as plt"
      ],
      "metadata": {
        "id": "2M8WUWJCs_WW"
      },
      "execution_count": null,
      "outputs": []
    },
    {
      "cell_type": "markdown",
      "source": [
        "# Dizionario valore biglietti e probabilità"
      ],
      "metadata": {
        "id": "r5PBkBAtVRMI"
      }
    },
    {
      "cell_type": "code",
      "source": [
        "min = 1\n",
        "max = 49920000"
      ],
      "metadata": {
        "id": "UdSqTyoqm5Iy"
      },
      "execution_count": null,
      "outputs": []
    },
    {
      "cell_type": "code",
      "execution_count": null,
      "metadata": {
        "id": "HMqXca06ryfi"
      },
      "outputs": [],
      "source": [
        "a = 500000\n",
        "p_a = 4\n",
        "\n",
        "b = 25000\n",
        "p_b = 8\n",
        "p_cum_b = p_a + p_b\n",
        "\n",
        "c = 10000\n",
        "p_c = 40\n",
        "p_cum_c = p_cum_b + p_c\n",
        "\n",
        "d = 4000\n",
        "p_d = 80\n",
        "p_cum_d = p_cum_c + p_d\n",
        "\n",
        "e = 2000\n",
        "p_e = 92\n",
        "p_cum_e = p_cum_d + p_e\n",
        "\n",
        "f = 1000\n",
        "p_f = 2288\n",
        "p_cum_f = p_cum_e + p_f\n",
        "\n",
        "g = 500\n",
        "p_g = 5408\n",
        "p_cum_g = p_cum_f + p_g\n",
        "\n",
        "h = 400\n",
        "p_h = 5408\n",
        "p_cum_h = p_cum_g + p_h\n",
        "\n",
        "i = 200\n",
        "p_i = 15808\n",
        "p_cum_i = p_cum_h + p_i\n",
        "\n",
        "\n",
        "l = 100\n",
        "p_l = 257920\n",
        "p_cum_l = p_cum_i + p_l\n",
        "\n",
        "m = 50\n",
        "p_m = 665600\n",
        "p_cum_m = p_cum_l + p_m\n",
        "\n",
        "\n",
        "n = 25\n",
        "p_n = 748800\n",
        "p_cum_n = p_cum_m + p_n\n",
        "\n",
        "o = 20\n",
        "p_o = 748800\n",
        "p_cum_o = p_cum_n + p_o\n",
        "\n",
        "p = 10\n",
        "p_p = 4867200\n",
        "p_cum_p = p_cum_o + p_p\n",
        "\n",
        "q = 5\n",
        "p_q = 4576000\n",
        "p_cum_q = p_cum_p + p_q\n",
        "\n",
        "z = 0"
      ]
    },
    {
      "cell_type": "code",
      "source": [
        "def cumulata(lista):\n",
        "  \"\"\"\n",
        "  Calcola la cumulata di una lista di numeri.\n",
        "\n",
        "  Args:\n",
        "    lista: La lista di numeri.\n",
        "\n",
        "  Returns:\n",
        "    La cumulata della lista.\n",
        "  \"\"\"\n",
        "\n",
        "  cumulata = []\n",
        "  for numero in lista:\n",
        "    if cumulata:\n",
        "      cumulata.append(cumulata[-1] + numero)\n",
        "    else:\n",
        "      cumulata.append(numero)\n",
        "  return cumulata"
      ],
      "metadata": {
        "id": "Pxwdil0Cxhju"
      },
      "execution_count": null,
      "outputs": []
    },
    {
      "cell_type": "code",
      "source": [
        "\"\"\"\n",
        "lista_prob = [p_a, p_b, p_c, p_d, p_e, p_f, p_g, p_h, p_i, p_l, p_m, p_n, p_o, p_p, p_q]\n",
        "somma_prob = sum(lista_prob)\n",
        "\n",
        "lista_prob_cum = cumulata(lista_prob)\n",
        "print(lista_prob_cum)\n",
        "\"\"\""
      ],
      "metadata": {
        "colab": {
          "base_uri": "https://localhost:8080/",
          "height": 70
        },
        "id": "uXCCcV7unEy6",
        "outputId": "e6755f2f-4ff2-4e0b-9b97-05dd463b761b"
      },
      "execution_count": null,
      "outputs": [
        {
          "output_type": "execute_result",
          "data": {
            "text/plain": [
              "'\\nlista_prob = [p_a, p_b, p_c, p_d, p_e, p_f, p_g, p_h, p_i, p_l, p_m, p_n, p_o, p_p, p_q]\\nsomma_prob = sum(lista_prob)\\n\\nlista_prob_cum = cumulata(lista_prob)\\nprint(lista_prob_cum)\\n'"
            ],
            "application/vnd.google.colaboratory.intrinsic+json": {
              "type": "string"
            }
          },
          "metadata": {},
          "execution_count": 5
        }
      ]
    },
    {
      "cell_type": "markdown",
      "source": [
        "## Dizionario biglietti"
      ],
      "metadata": {
        "id": "lCqyIJ7lXP92"
      }
    },
    {
      "cell_type": "code",
      "source": [
        "biglietti_vincite = {\"A\" : a,\n",
        "             \"B\" : b,\n",
        "             \"C\" : c,\n",
        "             \"D\" : d,\n",
        "             \"E\" : e,\n",
        "             \"F\" : f,\n",
        "             \"G\" : g,\n",
        "             \"H\" : h,\n",
        "             \"I\" : i,\n",
        "             \"L\" : l,\n",
        "             \"M\" : m,\n",
        "             \"N\" : n,\n",
        "             \"O\" : o,\n",
        "             \"P\" : p,\n",
        "             \"Q\" : q,\n",
        "             \"Z\" : z}\n",
        "\n",
        "print(biglietti_vincite)\n"
      ],
      "metadata": {
        "colab": {
          "base_uri": "https://localhost:8080/"
        },
        "id": "WPOsLtGQXLJv",
        "outputId": "72f8ff51-3e31-4366-ef3e-cb7fe415ddf8"
      },
      "execution_count": null,
      "outputs": [
        {
          "output_type": "stream",
          "name": "stdout",
          "text": [
            "{'A': 500000, 'B': 25000, 'C': 10000, 'D': 4000, 'E': 2000, 'F': 1000, 'G': 500, 'H': 400, 'I': 200, 'L': 100, 'M': 50, 'N': 25, 'O': 20, 'P': 10, 'Q': 5, 'Z': 0}\n"
          ]
        }
      ]
    },
    {
      "cell_type": "code",
      "source": [
        "\"\"\"\n",
        "biglietti_prob = {\"A\" : p_a,\n",
        "             'B' : p_b,\n",
        "             'C' : p_c,\n",
        "             'D' : p_d,\n",
        "             'E' : p_e,\n",
        "             'F' : p_f,\n",
        "             'G' : p_g,\n",
        "             'H' : p_h,\n",
        "             'I' : p_i,\n",
        "             'L' : p_l,\n",
        "             'M' : p_m,\n",
        "             'N' : p_n,\n",
        "             'O' : p_o,\n",
        "             'P' : p_p,\n",
        "             'Q' : p_q,\n",
        "             'Z' : p_z\n",
        "             }\n",
        "\n",
        "print(biglietti_prob)\n",
        "\"\"\""
      ],
      "metadata": {
        "colab": {
          "base_uri": "https://localhost:8080/",
          "height": 122
        },
        "id": "7M9Z04sN6Kr5",
        "outputId": "ed838666-70b6-479f-ccca-4535a0cf909b"
      },
      "execution_count": null,
      "outputs": [
        {
          "output_type": "execute_result",
          "data": {
            "text/plain": [
              "'\\nbiglietti_prob = {\"A\" : p_a,\\n             \\'B\\' : p_b,\\n             \\'C\\' : p_c,\\n             \\'D\\' : p_d,\\n             \\'E\\' : p_e,\\n             \\'F\\' : p_f,\\n             \\'G\\' : p_g,\\n             \\'H\\' : p_h,\\n             \\'I\\' : p_i,\\n             \\'L\\' : p_l,\\n             \\'M\\' : p_m,\\n             \\'N\\' : p_n,\\n             \\'O\\' : p_o,\\n             \\'P\\' : p_p,\\n             \\'Q\\' : p_q,\\n             \\'Z\\' : p_z\\n             }\\n\\nprint(biglietti_prob)\\n'"
            ],
            "application/vnd.google.colaboratory.intrinsic+json": {
              "type": "string"
            }
          },
          "metadata": {},
          "execution_count": 7
        }
      ]
    },
    {
      "cell_type": "code",
      "source": [
        "# NON CORRETTA\n",
        "\"\"\"\n",
        "biglietti_prob_cum = {\"A\" : p_a,\n",
        "             'B' : p_a + p_b,\n",
        "             'C' : p_b + p_c,\n",
        "             'D' : p_c + p_d,\n",
        "             'E' : p_d + p_e,\n",
        "             'F' : p_e + p_f,\n",
        "             'G' : p_f + p_g,\n",
        "             'H' : p_g + p_h,\n",
        "             'I' : p_h + p_i,\n",
        "             'L' : p_p_l,\n",
        "             'M' : p_m,\n",
        "             'N' : p_n,\n",
        "             'O' : p_o,\n",
        "             'P' : p_p,\n",
        "             'Q' : p_q,\n",
        "             'Z' : p_z\n",
        "             }\n",
        "\"\"\""
      ],
      "metadata": {
        "colab": {
          "base_uri": "https://localhost:8080/",
          "height": 140
        },
        "id": "aNZa31Wd3VaE",
        "outputId": "c7d46f5d-4492-496b-e7f1-d44e76617b16"
      },
      "execution_count": null,
      "outputs": [
        {
          "output_type": "execute_result",
          "data": {
            "text/plain": [
              "'\\nbiglietti_prob_cum = {\"A\" : p_a,\\n             \\'B\\' : p_a + p_b,\\n             \\'C\\' : p_b + p_c,\\n             \\'D\\' : p_c + p_d,\\n             \\'E\\' : p_d + p_e,\\n             \\'F\\' : p_e + p_f,\\n             \\'G\\' : p_f + p_g,\\n             \\'H\\' : p_g + p_h,\\n             \\'I\\' : p_h + p_i,\\n             \\'L\\' : p_p_l,\\n             \\'M\\' : p_m,\\n             \\'N\\' : p_n,\\n             \\'O\\' : p_o,\\n             \\'P\\' : p_p,\\n             \\'Q\\' : p_q,\\n             \\'Z\\' : p_z\\n             }\\n'"
            ],
            "application/vnd.google.colaboratory.intrinsic+json": {
              "type": "string"
            }
          },
          "metadata": {},
          "execution_count": 8
        }
      ]
    },
    {
      "cell_type": "markdown",
      "source": [
        "# Generatore di numeri casuali"
      ],
      "metadata": {
        "id": "UNkWm6KoVXgw"
      }
    },
    {
      "cell_type": "code",
      "source": [
        "# generatore di numeri casuali tra min e max\n",
        "# print(randint(min,max))\n",
        "\n",
        "#creazione di un array tra min e max\n",
        "big_arr = np.arange(1, max+1)\n",
        "\n",
        "#randomizzazione di big_arr\n",
        "np.random.shuffle(big_arr)"
      ],
      "metadata": {
        "id": "e3rxZGyFhqtI"
      },
      "execution_count": null,
      "outputs": []
    },
    {
      "cell_type": "code",
      "source": [
        "mio_dict ={\"A\" : [],\n",
        "           \"B\" : [],\n",
        "           \"C\" : [],\n",
        "           \"D\" : [],\n",
        "           \"E\" : [],\n",
        "           \"F\" : [],\n",
        "           \"G\" : [],\n",
        "           \"H\" : [],\n",
        "           \"I\" : [],\n",
        "           \"L\" : [],\n",
        "           \"M\" : [],\n",
        "           \"N\" : [],\n",
        "           \"O\" : [],\n",
        "           \"P\" : [],\n",
        "           \"Q\" : [],\n",
        "           \"Z\" : []}\n",
        "\n",
        "i = 1\n",
        "\n",
        "while i <= max:\n",
        "  if i <= p_a:\n",
        "    mio_dict[\"A\"].append(big_arr[i-1])\n",
        "  elif i <= p_cum_b:\n",
        "    mio_dict[\"B\"].append(big_arr[i-1])\n",
        "  elif i <= p_cum_c:\n",
        "    mio_dict[\"C\"].append(big_arr[i-1])\n",
        "  elif i <= p_cum_d:\n",
        "    mio_dict[\"D\"].append(big_arr[i-1])\n",
        "  elif i <= p_cum_e:\n",
        "    mio_dict[\"E\"].append(big_arr[i-1])\n",
        "  elif i <= p_cum_f:\n",
        "    mio_dict[\"F\"].append(big_arr[i-1])\n",
        "  elif i <= p_cum_g:\n",
        "    mio_dict[\"G\"].append(big_arr[i-1])\n",
        "  elif i <= p_cum_h:\n",
        "    mio_dict[\"H\"].append(big_arr[i-1])\n",
        "  elif i <= p_cum_i:\n",
        "    mio_dict[\"I\"].append(big_arr[i-1])\n",
        "  elif i <= p_cum_l:\n",
        "    mio_dict[\"L\"].append(big_arr[i-1])\n",
        "  elif i <= p_cum_m:\n",
        "    mio_dict[\"M\"].append(big_arr[i-1])\n",
        "  elif i <= p_cum_n:\n",
        "    mio_dict[\"N\"].append(big_arr[i-1])\n",
        "  elif i <= p_cum_o:\n",
        "    mio_dict[\"O\"].append(big_arr[i-1])\n",
        "  elif i <= p_cum_p:\n",
        "    mio_dict[\"P\"].append(big_arr[i-1])\n",
        "  elif i <= p_cum_q:\n",
        "    mio_dict[\"Q\"].append(big_arr[i-1])\n",
        "  else:\n",
        "    mio_dict[\"Z\"].append(big_arr[i-1])\n",
        "  i += 1"
      ],
      "metadata": {
        "id": "Nyp8cWnqn1pS"
      },
      "execution_count": null,
      "outputs": []
    },
    {
      "cell_type": "code",
      "source": [
        "def crea_array_casuale(min, max, n):\n",
        "  \"\"\"\n",
        "  Crea un array di numeri casuali tra min e max di n elementi senza ripetizioni.\n",
        "\n",
        "  Args:\n",
        "    min: Il numero minimo.\n",
        "    max: Il numero massimo.\n",
        "    n: Il numero di elementi da generare.\n",
        "\n",
        "  Returns:\n",
        "    Un array di numeri casuali tra min e max di n elementi senza ripetizioni.\n",
        "  \"\"\"\n",
        "\n",
        "  array = []\n",
        "  while len(array) < n:\n",
        "    numero = random.randint(min, max)\n",
        "    if numero not in array:\n",
        "      array.append(numero)\n",
        "  return array\n",
        "\n",
        "# test def\n",
        "\"\"\"\n",
        "array = crea_array_casuale(1, 100, 10)\n",
        "print(array)\n",
        "\"\"\""
      ],
      "metadata": {
        "colab": {
          "base_uri": "https://localhost:8080/",
          "height": 35
        },
        "id": "oh-SlnJO9PdO",
        "outputId": "3029a2f3-3a7a-483e-97a6-70f631a16e96"
      },
      "execution_count": null,
      "outputs": [
        {
          "output_type": "execute_result",
          "data": {
            "text/plain": [
              "'\\narray = crea_array_casuale(1, 100, 10)\\nprint(array)\\n'"
            ],
            "application/vnd.google.colaboratory.intrinsic+json": {
              "type": "string"
            }
          },
          "metadata": {},
          "execution_count": 8
        }
      ]
    },
    {
      "cell_type": "code",
      "source": [
        "\"\"\"\n",
        "n_bgl = 60\n",
        "bgl_comprati = crea_array_casuale(min, max, n_bgl)\n",
        "print(bgl_comprati)\n",
        "\"\"\""
      ],
      "metadata": {
        "colab": {
          "base_uri": "https://localhost:8080/",
          "height": 53
        },
        "id": "2zl8ztcz80xM",
        "outputId": "ae19c9f2-d60e-4c6f-f714-23975e911313"
      },
      "execution_count": null,
      "outputs": [
        {
          "output_type": "execute_result",
          "data": {
            "text/plain": [
              "'\\nn_bgl = 60\\nbgl_comprati = crea_array_casuale(min, max, n_bgl)\\nprint(bgl_comprati)\\n'"
            ],
            "application/vnd.google.colaboratory.intrinsic+json": {
              "type": "string"
            }
          },
          "metadata": {},
          "execution_count": 12
        }
      ]
    },
    {
      "cell_type": "code",
      "source": [
        "\"\"\"\n",
        "numero_cercato = 22117823\n",
        "\n",
        "for chiave, array in mio_dict.items():\n",
        "  if numero_cercato in array:\n",
        "    chiave_corrispondente = chiave\n",
        "    break\n",
        "\n",
        "print(chiave_corrispondente)\n",
        "\"\"\"\n"
      ],
      "metadata": {
        "colab": {
          "base_uri": "https://localhost:8080/",
          "height": 70
        },
        "id": "BvIoy06G7BCN",
        "outputId": "4c03c17e-bbab-4166-9705-c015f38a7288"
      },
      "execution_count": null,
      "outputs": [
        {
          "output_type": "execute_result",
          "data": {
            "text/plain": [
              "'\\nnumero_cercato = 22117823\\n\\nfor chiave, array in mio_dict.items():\\n  if numero_cercato in array:\\n    chiave_corrispondente = chiave\\n    break\\n\\nprint(chiave_corrispondente)\\n'"
            ],
            "application/vnd.google.colaboratory.intrinsic+json": {
              "type": "string"
            }
          },
          "metadata": {},
          "execution_count": 13
        }
      ]
    },
    {
      "cell_type": "code",
      "source": [
        "tentativi = 30\n",
        "arr_tentativi =[]\n",
        "\n",
        "n_bgl = 60\n",
        "\n",
        "j = 0\n",
        "\n",
        "while j < tentativi:\n",
        "  bgl_comprati = crea_array_casuale(min, max, n_bgl)\n",
        "  premi = []\n",
        "  for i in bgl_comprati:\n",
        "    biglietto_cercato = i\n",
        "    for chiave, array in mio_dict.items():\n",
        "      if biglietto_cercato in array:\n",
        "        premi.append(biglietti_vincite[chiave])\n",
        "        break\n",
        "  premi_somma = sum(premi)\n",
        "  arr_tentativi.append(premi_somma)\n",
        "  j += 1\n",
        "\n",
        "print(arr_tentativi)"
      ],
      "metadata": {
        "colab": {
          "base_uri": "https://localhost:8080/"
        },
        "id": "7GAUeIVrAoEt",
        "outputId": "fbda0143-714e-4234-ed69-7616c758f6e9"
      },
      "execution_count": null,
      "outputs": [
        {
          "output_type": "stream",
          "name": "stdout",
          "text": [
            "[275, 180, 195, 185, 225, 160, 120, 120, 285, 280, 210, 95, 395, 220, 1300, 135, 195, 105, 130, 165, 185, 760, 345, 105, 150, 155, 85, 200, 220, 180]\n"
          ]
        }
      ]
    },
    {
      "cell_type": "code",
      "source": [
        "mean = statistics.mean(arr_tentativi)\n",
        "totale_spesa = 5 * n_bgl\n",
        "\n",
        "totale_vincita = mean - totale_spesa\n",
        "\n",
        "print(\"media vincite: \", mean)\n",
        "print(\"media guadagno: \", totale_vincita)\n",
        "print(\"percentuale guadagno (perdita)\", totale_vincita/totale_spesa * 100)"
      ],
      "metadata": {
        "colab": {
          "base_uri": "https://localhost:8080/"
        },
        "id": "RRqYb1kPspP3",
        "outputId": "6f49a6dd-c2a1-475d-ee31-ed3968f33361"
      },
      "execution_count": null,
      "outputs": [
        {
          "output_type": "stream",
          "name": "stdout",
          "text": [
            "media vincite:  203.66666666666666\n",
            "media guadagno:  -96.33333333333334\n",
            "percentuale guadagno (perdita) -32.111111111111114\n"
          ]
        }
      ]
    },
    {
      "cell_type": "code",
      "source": [
        "perdite = []\n",
        "\n",
        "for i in arr_tentativi:\n",
        "  perdite.append(i - totale_spesa)\n",
        "sorted_array = np.sort(perdite)\n",
        "print('The sorted array is:')\n",
        "print(sorted_array)\n",
        "\n",
        "# Crea un DataFrame con l'array come colonna\n",
        "df = pd.DataFrame({\"guadagno (perdita)\": sorted_array})\n",
        "\n",
        "# Crea un bar plot del DataFrame\n",
        "axis = df.plot.bar(rot=0)\n",
        "print(axis)\n",
        "plt.gcf().set_size_inches(20, 10)\n",
        "plt.show()\n",
        "\n",
        "\n"
      ],
      "metadata": {
        "colab": {
          "base_uri": "https://localhost:8080/",
          "height": 420
        },
        "id": "U9AIbH7-N1Cd",
        "outputId": "7fa4eed9-1fb6-4678-d3e3-f9dfe6df3e39"
      },
      "execution_count": null,
      "outputs": [
        {
          "output_type": "stream",
          "name": "stdout",
          "text": [
            "The sorted array is:\n",
            "[-185 -180 -175 -175 -165 -165 -160 -155 -150 -150 -145 -145 -140 -140\n",
            " -130 -125 -120 -120 -110 -105  -95  -75  -75  -75  -65  -40  -35   25\n",
            "   95  390]\n",
            "Axes(0.125,0.11;0.775x0.77)\n"
          ]
        },
        {
          "output_type": "display_data",
          "data": {
            "text/plain": [
              "<Figure size 2000x1000 with 1 Axes>"
            ],
            "image/png": "[encoded data removed]"
          },
          "metadata": {}
        }
      ]
    },
    {
      "cell_type": "code",
      "source": [
        "import csv\n",
        "\n",
        "# Apri un file CSV in modalità di scrittura\n",
        "outfile = open('output_20x_SG.csv','w')\n",
        "out = csv.writer(outfile)\n",
        "out.writerows(map(lambda x: [x], sorted_array))\n",
        "outfile.close()\n",
        "\n"
      ],
      "metadata": {
        "id": "p5PmIOVpeucS"
      },
      "execution_count": null,
      "outputs": []
    }
  ]
}